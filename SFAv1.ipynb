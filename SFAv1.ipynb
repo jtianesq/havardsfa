{
  "nbformat": 4,
  "nbformat_minor": 0,
  "metadata": {
    "colab": {
      "name": "SFAv1.ipynb",
      "version": "0.3.2",
      "provenance": [],
      "include_colab_link": true
    },
    "kernelspec": {
      "name": "python3",
      "display_name": "Python 3"
    }
  },
  "cells": [
    {
      "cell_type": "markdown",
      "metadata": {
        "id": "view-in-github",
        "colab_type": "text"
      },
      "source": [
        "<a href=\"https://colab.research.google.com/github/jtianesq/havardsfa/blob/master/SFAv1.ipynb\" target=\"_parent\"><img src=\"https://colab.research.google.com/assets/colab-badge.svg\" alt=\"Open In Colab\"/></a>"
      ]
    },
    {
      "metadata": {
        "id": "Q8dm3irp5ACz",
        "colab_type": "code",
        "colab": {}
      },
      "cell_type": "code",
      "source": [
        "import pandas as pd\n",
        "import numpy as np\n",
        "from sklearn import preprocessing\n",
        "import matplotlib.pyplot as plt \n",
        "plt.rc(\"font\", size=14)\n",
        "from sklearn.linear_model import LogisticRegression\n",
        "from sklearn.model_selection import train_test_split\n",
        "import seaborn as sns\n",
        "sns.set(style=\"white\")\n",
        "sns.set(style=\"whitegrid\", color_codes=True)"
      ],
      "execution_count": 0,
      "outputs": []
    },
    {
      "metadata": {
        "id": "n8M9vbLUwXU6",
        "colab_type": "code",
        "colab": {
          "base_uri": "https://localhost:8080/",
          "height": 714
        },
        "outputId": "2905bea3-e2a0-40f4-d13b-0c9e8ef9f5f5"
      },
      "cell_type": "code",
      "source": [
        "# load dataset\n",
        "url = \"https://raw.githubusercontent.com/jtianesq/havardsfa/master/sfa_combined_raw.csv\"\n",
        "dataframe = pd.read_csv(url,sep=\"|\",header=0,encoding='windows-1252') #the encoding part is necessary!!!\n",
        "print(dataframe.head(5))"
      ],
      "execution_count": 2,
      "outputs": [
        {
          "output_type": "stream",
          "text": [
            "    Score                                           Industry  Year Founded  \\\n",
            "0  Accept  hazardous materials and inspection training se...          1982   \n",
            "1  Accept                       commercial cleaning services          1983   \n",
            "2  Accept                                water tank services          1962   \n",
            "3  Accept                  oil and propane delivery services          1981   \n",
            "4  Accept                         energy inspection services          1986   \n",
            "\n",
            "                           URLtrim  Recurring Revenue (million) Margins  \\\n",
            "0                     aidtrain.com                          0.5  medium   \n",
            "1          alliancemaintenance.com                          0.5     low   \n",
            "2          americanpipeandtank.com                          0.5  medium   \n",
            "3  beaudryoilpropanedieselfuel.com                          0.5     low   \n",
            "4               cci-inspection.com                          0.5  medium   \n",
            "\n",
            "  Stable Cash Flow Industry Growth Fragmented Industry  \\\n",
            "0              low          medium                high   \n",
            "1           medium          medium                high   \n",
            "2              low          medium                high   \n",
            "3           medium             low                high   \n",
            "4              low          medium              medium   \n",
            "\n",
            "  Straightforward Operations Exogenous Risk Barriers to Entry  \\\n",
            "0                        yes            low               low   \n",
            "1                        yes            low               low   \n",
            "2                        yes            low               low   \n",
            "3                        yes         medium               low   \n",
            "4                         no         medium            medium   \n",
            "\n",
            "  Employee Estimate Stickiness Supplier Power Customer Power  \\\n",
            "0             11-50        low            low         medium   \n",
            "1             11-50     medium            low         medium   \n",
            "2             11-50     medium         medium         medium   \n",
            "3             11-50     medium            low         medium   \n",
            "4             11-50       high         medium         medium   \n",
            "\n",
            "  Service vs Project/Product Longterm Relationships Customer Concentration  \n",
            "0                    service                    yes                    low  \n",
            "1                    service                    yes                 medium  \n",
            "2                    service                     no                    low  \n",
            "3                    product                     no                    low  \n",
            "4                    service                    yes                   high  \n"
          ],
          "name": "stdout"
        }
      ]
    },
    {
      "metadata": {
        "id": "fdhKBjvX7wOq",
        "colab_type": "code",
        "colab": {
          "base_uri": "https://localhost:8080/",
          "height": 170
        },
        "outputId": "e9609075-ba36-46ef-82f6-87b75af11a83"
      },
      "cell_type": "code",
      "source": [
        "print(dataframe.columns)\n",
        "print(dataframe.shape)"
      ],
      "execution_count": 3,
      "outputs": [
        {
          "output_type": "stream",
          "text": [
            "Index(['Score', 'Industry', 'Year Founded', 'URLtrim',\n",
            "       'Recurring Revenue (million)', 'Margins', 'Stable Cash Flow',\n",
            "       'Industry Growth', 'Fragmented Industry', 'Straightforward Operations',\n",
            "       'Exogenous Risk', 'Barriers to Entry', 'Employee Estimate',\n",
            "       'Stickiness', 'Supplier Power', 'Customer Power',\n",
            "       'Service vs Project/Product', 'Longterm Relationships',\n",
            "       'Customer Concentration'],\n",
            "      dtype='object')\n",
            "(236, 19)\n"
          ],
          "name": "stdout"
        }
      ]
    },
    {
      "metadata": {
        "id": "3Y3pRirxwAuD",
        "colab_type": "code",
        "colab": {
          "base_uri": "https://localhost:8080/",
          "height": 85
        },
        "outputId": "fb9bcf05-651e-478d-e582-dca01a42bc29"
      },
      "cell_type": "code",
      "source": [
        "#data exploration\n",
        "dataframe['Score'].value_counts()"
      ],
      "execution_count": 4,
      "outputs": [
        {
          "output_type": "execute_result",
          "data": {
            "text/plain": [
              "Reject    192\n",
              "Accept     43\n",
              "reject      1\n",
              "Name: Score, dtype: int64"
            ]
          },
          "metadata": {
            "tags": []
          },
          "execution_count": 4
        }
      ]
    },
    {
      "metadata": {
        "id": "Y3NhDepRvwvf",
        "colab_type": "code",
        "colab": {
          "base_uri": "https://localhost:8080/",
          "height": 68
        },
        "outputId": "4831d0f0-4d9b-4316-8ba7-8dca96dc90b1"
      },
      "cell_type": "code",
      "source": [
        "#There is a record with value 'reject' instead of 'Reject', fix this issue with the following code\n",
        "dataframe['Score']=np.where(dataframe['Score'] =='reject', 'Reject', dataframe['Score'])\n",
        "dataframe['Score']=np.where(dataframe['Score'] =='Reject', 0, dataframe['Score'])\n",
        "dataframe['Score']=np.where(dataframe['Score'] =='Accept', 1, dataframe['Score'])\n",
        "dataframe['Score']=dataframe['Score'].astype(int)\n",
        "dataframe['Score'].value_counts()"
      ],
      "execution_count": 5,
      "outputs": [
        {
          "output_type": "execute_result",
          "data": {
            "text/plain": [
              "0    193\n",
              "1     43\n",
              "Name: Score, dtype: int64"
            ]
          },
          "metadata": {
            "tags": []
          },
          "execution_count": 5
        }
      ]
    },
    {
      "metadata": {
        "id": "sywworkZwrYC",
        "colab_type": "code",
        "colab": {
          "base_uri": "https://localhost:8080/",
          "height": 395
        },
        "outputId": "6cf7538a-ead1-4aea-cfac-bd016da3c872"
      },
      "cell_type": "code",
      "source": [
        "sns.countplot(x='Score',data=dataframe, palette='hls')\n",
        "plt.show()"
      ],
      "execution_count": 6,
      "outputs": [
        {
          "output_type": "stream",
          "text": [
            "/usr/local/lib/python3.6/dist-packages/seaborn/categorical.py:1428: FutureWarning: remove_na is deprecated and is a private function. Do not use.\n",
            "  stat_data = remove_na(group_data)\n"
          ],
          "name": "stderr"
        },
        {
          "output_type": "display_data",
          "data": {
            "image/png": "[encoded data removed]",
            "text/plain": [
              "<matplotlib.figure.Figure at 0x7f943722c4e0>"
            ]
          },
          "metadata": {
            "tags": []
          }
        }
      ]
    },
    {
      "metadata": {
        "id": "DH30p9JQxxtb",
        "colab_type": "text"
      },
      "cell_type": "markdown",
      "source": [
        "The sample is unbalaneced.  As shown in the calculation below, the ratio of reject to accept is 83:16."
      ]
    },
    {
      "metadata": {
        "id": "RUDR81zxxvwr",
        "colab_type": "code",
        "colab": {
          "base_uri": "https://localhost:8080/",
          "height": 51
        },
        "outputId": "738e4f50-d4b7-4afd-93c3-2f99582748c1"
      },
      "cell_type": "code",
      "source": [
        "count_reject = len(dataframe[dataframe['Score']==0])\n",
        "count_accept = len(dataframe[dataframe['Score']==1])\n",
        "pct_of_reject = count_reject/(count_reject + count_accept)\n",
        "print(\"percentage of reject is\", pct_of_reject*100)\n",
        "pct_of_accept = count_accept/(count_reject+count_accept)\n",
        "print(\"percentage of accept\", pct_of_accept*100)"
      ],
      "execution_count": 7,
      "outputs": [
        {
          "output_type": "stream",
          "text": [
            "percentage of reject is 81.77966101694916\n",
            "percentage of accept 18.220338983050848\n"
          ],
          "name": "stdout"
        }
      ]
    },
    {
      "metadata": {
        "id": "g3tVAoVYw8x5",
        "colab_type": "code",
        "colab": {
          "base_uri": "https://localhost:8080/",
          "height": 142
        },
        "outputId": "3a6eb4cf-5256-4e4e-96ff-d1d952536b31"
      },
      "cell_type": "code",
      "source": [
        "dataframe.groupby('Score').mean()"
      ],
      "execution_count": 8,
      "outputs": [
        {
          "output_type": "execute_result",
          "data": {
            "text/html": [
              "<div>\n",
              "<style scoped>\n",
              "    .dataframe tbody tr th:only-of-type {\n",
              "        vertical-align: middle;\n",
              "    }\n",
              "\n",
              "    .dataframe tbody tr th {\n",
              "        vertical-align: top;\n",
              "    }\n",
              "\n",
              "    .dataframe thead th {\n",
              "        text-align: right;\n",
              "    }\n",
              "</style>\n",
              "<table border=\"1\" class=\"dataframe\">\n",
              "  <thead>\n",
              "    <tr style=\"text-align: right;\">\n",
              "      <th></th>\n",
              "      <th>Year Founded</th>\n",
              "      <th>Recurring Revenue (million)</th>\n",
              "    </tr>\n",
              "    <tr>\n",
              "      <th>Score</th>\n",
              "      <th></th>\n",
              "      <th></th>\n",
              "    </tr>\n",
              "  </thead>\n",
              "  <tbody>\n",
              "    <tr>\n",
              "      <th>0</th>\n",
              "      <td>1989.362694</td>\n",
              "      <td>9.881969</td>\n",
              "    </tr>\n",
              "    <tr>\n",
              "      <th>1</th>\n",
              "      <td>1991.255814</td>\n",
              "      <td>9.741860</td>\n",
              "    </tr>\n",
              "  </tbody>\n",
              "</table>\n",
              "</div>"
            ],
            "text/plain": [
              "       Year Founded  Recurring Revenue (million)\n",
              "Score                                           \n",
              "0       1989.362694                     9.881969\n",
              "1       1991.255814                     9.741860"
            ]
          },
          "metadata": {
            "tags": []
          },
          "execution_count": 8
        }
      ]
    },
    {
      "metadata": {
        "id": "J5Vzt66JzLF3",
        "colab_type": "text"
      },
      "cell_type": "markdown",
      "source": [
        "As shown above, there is a big difference between the mean of Recurrening Revenue of Accepted and Rejected records. This is caused by few large companies in the dataset with large amount of revenue and employee size which are way above the limit of search fund acquisition. These outliner should be excluded from the dataset."
      ]
    },
    {
      "metadata": {
        "id": "llumhQrLxY1R",
        "colab_type": "code",
        "colab": {
          "base_uri": "https://localhost:8080/",
          "height": 297
        },
        "outputId": "022df61e-84aa-49d3-e50a-658957d96399"
      },
      "cell_type": "code",
      "source": [
        "dataframe.describe()"
      ],
      "execution_count": 9,
      "outputs": [
        {
          "output_type": "execute_result",
          "data": {
            "text/html": [
              "<div>\n",
              "<style scoped>\n",
              "    .dataframe tbody tr th:only-of-type {\n",
              "        vertical-align: middle;\n",
              "    }\n",
              "\n",
              "    .dataframe tbody tr th {\n",
              "        vertical-align: top;\n",
              "    }\n",
              "\n",
              "    .dataframe thead th {\n",
              "        text-align: right;\n",
              "    }\n",
              "</style>\n",
              "<table border=\"1\" class=\"dataframe\">\n",
              "  <thead>\n",
              "    <tr style=\"text-align: right;\">\n",
              "      <th></th>\n",
              "      <th>Score</th>\n",
              "      <th>Year Founded</th>\n",
              "      <th>Recurring Revenue (million)</th>\n",
              "    </tr>\n",
              "  </thead>\n",
              "  <tbody>\n",
              "    <tr>\n",
              "      <th>count</th>\n",
              "      <td>236.000000</td>\n",
              "      <td>236.000000</td>\n",
              "      <td>236.000000</td>\n",
              "    </tr>\n",
              "    <tr>\n",
              "      <th>mean</th>\n",
              "      <td>0.182203</td>\n",
              "      <td>1989.707627</td>\n",
              "      <td>9.856441</td>\n",
              "    </tr>\n",
              "    <tr>\n",
              "      <th>std</th>\n",
              "      <td>0.386832</td>\n",
              "      <td>23.365625</td>\n",
              "      <td>12.842066</td>\n",
              "    </tr>\n",
              "    <tr>\n",
              "      <th>min</th>\n",
              "      <td>0.000000</td>\n",
              "      <td>1873.000000</td>\n",
              "      <td>0.050000</td>\n",
              "    </tr>\n",
              "    <tr>\n",
              "      <th>25%</th>\n",
              "      <td>0.000000</td>\n",
              "      <td>1980.000000</td>\n",
              "      <td>0.500000</td>\n",
              "    </tr>\n",
              "    <tr>\n",
              "      <th>50%</th>\n",
              "      <td>0.000000</td>\n",
              "      <td>1995.000000</td>\n",
              "      <td>4.150000</td>\n",
              "    </tr>\n",
              "    <tr>\n",
              "      <th>75%</th>\n",
              "      <td>0.000000</td>\n",
              "      <td>2008.000000</td>\n",
              "      <td>13.000000</td>\n",
              "    </tr>\n",
              "    <tr>\n",
              "      <th>max</th>\n",
              "      <td>1.000000</td>\n",
              "      <td>2016.000000</td>\n",
              "      <td>72.000000</td>\n",
              "    </tr>\n",
              "  </tbody>\n",
              "</table>\n",
              "</div>"
            ],
            "text/plain": [
              "            Score  Year Founded  Recurring Revenue (million)\n",
              "count  236.000000    236.000000                   236.000000\n",
              "mean     0.182203   1989.707627                     9.856441\n",
              "std      0.386832     23.365625                    12.842066\n",
              "min      0.000000   1873.000000                     0.050000\n",
              "25%      0.000000   1980.000000                     0.500000\n",
              "50%      0.000000   1995.000000                     4.150000\n",
              "75%      0.000000   2008.000000                    13.000000\n",
              "max      1.000000   2016.000000                    72.000000"
            ]
          },
          "metadata": {
            "tags": []
          },
          "execution_count": 9
        }
      ]
    },
    {
      "metadata": {
        "id": "0fuxEFlI1Fjz",
        "colab_type": "text"
      },
      "cell_type": "markdown",
      "source": [
        "The maximum value for Recurring Revuenue is 23000 which is way out of range since the 75% quatile is 20. Therefore, in the next step, I filtered out records with Recurring Revenue > 30. After that, the mean value for Recurring Revenue from Accept and Reject subsets looks similar."
      ]
    },
    {
      "metadata": {
        "id": "xT4myUdm1c1r",
        "colab_type": "code",
        "colab": {
          "base_uri": "https://localhost:8080/",
          "height": 142
        },
        "outputId": "0d49e292-e662-48b0-8277-7e45f7b62914"
      },
      "cell_type": "code",
      "source": [
        "dataframe=dataframe[dataframe['Recurring Revenue (million)']<=30]\n",
        "dataframe.groupby('Score').mean()"
      ],
      "execution_count": 10,
      "outputs": [
        {
          "output_type": "execute_result",
          "data": {
            "text/html": [
              "<div>\n",
              "<style scoped>\n",
              "    .dataframe tbody tr th:only-of-type {\n",
              "        vertical-align: middle;\n",
              "    }\n",
              "\n",
              "    .dataframe tbody tr th {\n",
              "        vertical-align: top;\n",
              "    }\n",
              "\n",
              "    .dataframe thead th {\n",
              "        text-align: right;\n",
              "    }\n",
              "</style>\n",
              "<table border=\"1\" class=\"dataframe\">\n",
              "  <thead>\n",
              "    <tr style=\"text-align: right;\">\n",
              "      <th></th>\n",
              "      <th>Year Founded</th>\n",
              "      <th>Recurring Revenue (million)</th>\n",
              "    </tr>\n",
              "    <tr>\n",
              "      <th>Score</th>\n",
              "      <th></th>\n",
              "      <th></th>\n",
              "    </tr>\n",
              "  </thead>\n",
              "  <tbody>\n",
              "    <tr>\n",
              "      <th>0</th>\n",
              "      <td>1990.237288</td>\n",
              "      <td>6.978644</td>\n",
              "    </tr>\n",
              "    <tr>\n",
              "      <th>1</th>\n",
              "      <td>1992.150000</td>\n",
              "      <td>6.572500</td>\n",
              "    </tr>\n",
              "  </tbody>\n",
              "</table>\n",
              "</div>"
            ],
            "text/plain": [
              "       Year Founded  Recurring Revenue (million)\n",
              "Score                                           \n",
              "0       1990.237288                     6.978644\n",
              "1       1992.150000                     6.572500"
            ]
          },
          "metadata": {
            "tags": []
          },
          "execution_count": 10
        }
      ]
    },
    {
      "metadata": {
        "id": "c74x214Q5_5-",
        "colab_type": "text"
      },
      "cell_type": "markdown",
      "source": [
        "Calculate categorical means for other categorical variables to better understand the distribution of the data"
      ]
    },
    {
      "metadata": {
        "id": "wraHuYvR6CVF",
        "colab_type": "code",
        "colab": {
          "base_uri": "https://localhost:8080/",
          "height": 173
        },
        "outputId": "c50c4e73-c1ac-49e3-b939-ea55a8f6fda2"
      },
      "cell_type": "code",
      "source": [
        "dataframe.groupby('Margins').mean()"
      ],
      "execution_count": 11,
      "outputs": [
        {
          "output_type": "execute_result",
          "data": {
            "text/html": [
              "<div>\n",
              "<style scoped>\n",
              "    .dataframe tbody tr th:only-of-type {\n",
              "        vertical-align: middle;\n",
              "    }\n",
              "\n",
              "    .dataframe tbody tr th {\n",
              "        vertical-align: top;\n",
              "    }\n",
              "\n",
              "    .dataframe thead th {\n",
              "        text-align: right;\n",
              "    }\n",
              "</style>\n",
              "<table border=\"1\" class=\"dataframe\">\n",
              "  <thead>\n",
              "    <tr style=\"text-align: right;\">\n",
              "      <th></th>\n",
              "      <th>Score</th>\n",
              "      <th>Year Founded</th>\n",
              "      <th>Recurring Revenue (million)</th>\n",
              "    </tr>\n",
              "    <tr>\n",
              "      <th>Margins</th>\n",
              "      <th></th>\n",
              "      <th></th>\n",
              "      <th></th>\n",
              "    </tr>\n",
              "  </thead>\n",
              "  <tbody>\n",
              "    <tr>\n",
              "      <th>high</th>\n",
              "      <td>0.666667</td>\n",
              "      <td>1996.000000</td>\n",
              "      <td>6.733333</td>\n",
              "    </tr>\n",
              "    <tr>\n",
              "      <th>low</th>\n",
              "      <td>0.156250</td>\n",
              "      <td>1993.250000</td>\n",
              "      <td>4.943958</td>\n",
              "    </tr>\n",
              "    <tr>\n",
              "      <th>medium</th>\n",
              "      <td>0.194915</td>\n",
              "      <td>1988.288136</td>\n",
              "      <td>8.502542</td>\n",
              "    </tr>\n",
              "  </tbody>\n",
              "</table>\n",
              "</div>"
            ],
            "text/plain": [
              "            Score  Year Founded  Recurring Revenue (million)\n",
              "Margins                                                     \n",
              "high     0.666667   1996.000000                     6.733333\n",
              "low      0.156250   1993.250000                     4.943958\n",
              "medium   0.194915   1988.288136                     8.502542"
            ]
          },
          "metadata": {
            "tags": []
          },
          "execution_count": 11
        }
      ]
    },
    {
      "metadata": {
        "id": "j1GX0GHz6OYN",
        "colab_type": "code",
        "colab": {
          "base_uri": "https://localhost:8080/",
          "height": 173
        },
        "outputId": "5c06102f-607a-4dd0-c1cb-f08d843c4273"
      },
      "cell_type": "code",
      "source": [
        "dataframe.groupby('Stable Cash Flow').mean()"
      ],
      "execution_count": 12,
      "outputs": [
        {
          "output_type": "execute_result",
          "data": {
            "text/html": [
              "<div>\n",
              "<style scoped>\n",
              "    .dataframe tbody tr th:only-of-type {\n",
              "        vertical-align: middle;\n",
              "    }\n",
              "\n",
              "    .dataframe tbody tr th {\n",
              "        vertical-align: top;\n",
              "    }\n",
              "\n",
              "    .dataframe thead th {\n",
              "        text-align: right;\n",
              "    }\n",
              "</style>\n",
              "<table border=\"1\" class=\"dataframe\">\n",
              "  <thead>\n",
              "    <tr style=\"text-align: right;\">\n",
              "      <th></th>\n",
              "      <th>Score</th>\n",
              "      <th>Year Founded</th>\n",
              "      <th>Recurring Revenue (million)</th>\n",
              "    </tr>\n",
              "    <tr>\n",
              "      <th>Stable Cash Flow</th>\n",
              "      <th></th>\n",
              "      <th></th>\n",
              "      <th></th>\n",
              "    </tr>\n",
              "  </thead>\n",
              "  <tbody>\n",
              "    <tr>\n",
              "      <th>high</th>\n",
              "      <td>1.000000</td>\n",
              "      <td>1995.000000</td>\n",
              "      <td>7.000000</td>\n",
              "    </tr>\n",
              "    <tr>\n",
              "      <th>low</th>\n",
              "      <td>0.205298</td>\n",
              "      <td>1992.549669</td>\n",
              "      <td>5.474967</td>\n",
              "    </tr>\n",
              "    <tr>\n",
              "      <th>medium</th>\n",
              "      <td>0.123077</td>\n",
              "      <td>1985.969231</td>\n",
              "      <td>10.221538</td>\n",
              "    </tr>\n",
              "  </tbody>\n",
              "</table>\n",
              "</div>"
            ],
            "text/plain": [
              "                     Score  Year Founded  Recurring Revenue (million)\n",
              "Stable Cash Flow                                                     \n",
              "high              1.000000   1995.000000                     7.000000\n",
              "low               0.205298   1992.549669                     5.474967\n",
              "medium            0.123077   1985.969231                    10.221538"
            ]
          },
          "metadata": {
            "tags": []
          },
          "execution_count": 12
        }
      ]
    },
    {
      "metadata": {
        "id": "u2B9dRId6WTk",
        "colab_type": "code",
        "colab": {
          "base_uri": "https://localhost:8080/",
          "height": 173
        },
        "outputId": "8767cf1d-d4c2-4a08-ecf0-f5294acea8eb"
      },
      "cell_type": "code",
      "source": [
        "dataframe.groupby('Industry Growth').mean()"
      ],
      "execution_count": 13,
      "outputs": [
        {
          "output_type": "execute_result",
          "data": {
            "text/html": [
              "<div>\n",
              "<style scoped>\n",
              "    .dataframe tbody tr th:only-of-type {\n",
              "        vertical-align: middle;\n",
              "    }\n",
              "\n",
              "    .dataframe tbody tr th {\n",
              "        vertical-align: top;\n",
              "    }\n",
              "\n",
              "    .dataframe thead th {\n",
              "        text-align: right;\n",
              "    }\n",
              "</style>\n",
              "<table border=\"1\" class=\"dataframe\">\n",
              "  <thead>\n",
              "    <tr style=\"text-align: right;\">\n",
              "      <th></th>\n",
              "      <th>Score</th>\n",
              "      <th>Year Founded</th>\n",
              "      <th>Recurring Revenue (million)</th>\n",
              "    </tr>\n",
              "    <tr>\n",
              "      <th>Industry Growth</th>\n",
              "      <th></th>\n",
              "      <th></th>\n",
              "      <th></th>\n",
              "    </tr>\n",
              "  </thead>\n",
              "  <tbody>\n",
              "    <tr>\n",
              "      <th>high</th>\n",
              "      <td>0.130435</td>\n",
              "      <td>1997.217391</td>\n",
              "      <td>9.304348</td>\n",
              "    </tr>\n",
              "    <tr>\n",
              "      <th>low</th>\n",
              "      <td>0.194444</td>\n",
              "      <td>1983.263889</td>\n",
              "      <td>5.980556</td>\n",
              "    </tr>\n",
              "    <tr>\n",
              "      <th>medium</th>\n",
              "      <td>0.202020</td>\n",
              "      <td>1992.838384</td>\n",
              "      <td>6.459798</td>\n",
              "    </tr>\n",
              "  </tbody>\n",
              "</table>\n",
              "</div>"
            ],
            "text/plain": [
              "                    Score  Year Founded  Recurring Revenue (million)\n",
              "Industry Growth                                                     \n",
              "high             0.130435   1997.217391                     9.304348\n",
              "low              0.194444   1983.263889                     5.980556\n",
              "medium           0.202020   1992.838384                     6.459798"
            ]
          },
          "metadata": {
            "tags": []
          },
          "execution_count": 13
        }
      ]
    },
    {
      "metadata": {
        "id": "_nkM-P-s6hNn",
        "colab_type": "code",
        "colab": {
          "base_uri": "https://localhost:8080/",
          "height": 204
        },
        "outputId": "c64ed01e-2b23-4399-b49a-b3ba4709bd16"
      },
      "cell_type": "code",
      "source": [
        "dataframe.groupby('Employee Estimate').mean()"
      ],
      "execution_count": 14,
      "outputs": [
        {
          "output_type": "execute_result",
          "data": {
            "text/html": [
              "<div>\n",
              "<style scoped>\n",
              "    .dataframe tbody tr th:only-of-type {\n",
              "        vertical-align: middle;\n",
              "    }\n",
              "\n",
              "    .dataframe tbody tr th {\n",
              "        vertical-align: top;\n",
              "    }\n",
              "\n",
              "    .dataframe thead th {\n",
              "        text-align: right;\n",
              "    }\n",
              "</style>\n",
              "<table border=\"1\" class=\"dataframe\">\n",
              "  <thead>\n",
              "    <tr style=\"text-align: right;\">\n",
              "      <th></th>\n",
              "      <th>Score</th>\n",
              "      <th>Year Founded</th>\n",
              "      <th>Recurring Revenue (million)</th>\n",
              "    </tr>\n",
              "    <tr>\n",
              "      <th>Employee Estimate</th>\n",
              "      <th></th>\n",
              "      <th></th>\n",
              "      <th></th>\n",
              "    </tr>\n",
              "  </thead>\n",
              "  <tbody>\n",
              "    <tr>\n",
              "      <th>11-50</th>\n",
              "      <td>0.225352</td>\n",
              "      <td>1994.535211</td>\n",
              "      <td>6.361972</td>\n",
              "    </tr>\n",
              "    <tr>\n",
              "      <th>2-10</th>\n",
              "      <td>0.203125</td>\n",
              "      <td>1997.296875</td>\n",
              "      <td>1.544063</td>\n",
              "    </tr>\n",
              "    <tr>\n",
              "      <th>201-1000</th>\n",
              "      <td>0.000000</td>\n",
              "      <td>1998.000000</td>\n",
              "      <td>10.750000</td>\n",
              "    </tr>\n",
              "    <tr>\n",
              "      <th>51-200</th>\n",
              "      <td>0.148649</td>\n",
              "      <td>1980.202703</td>\n",
              "      <td>11.643243</td>\n",
              "    </tr>\n",
              "  </tbody>\n",
              "</table>\n",
              "</div>"
            ],
            "text/plain": [
              "                      Score  Year Founded  Recurring Revenue (million)\n",
              "Employee Estimate                                                     \n",
              "11-50              0.225352   1994.535211                     6.361972\n",
              "2-10               0.203125   1997.296875                     1.544063\n",
              "201-1000           0.000000   1998.000000                    10.750000\n",
              "51-200             0.148649   1980.202703                    11.643243"
            ]
          },
          "metadata": {
            "tags": []
          },
          "execution_count": 14
        }
      ]
    },
    {
      "metadata": {
        "id": "98wciO5F7e9V",
        "colab_type": "text"
      },
      "cell_type": "markdown",
      "source": [
        "Do one-hot-encoding for all categorical variables by creating dummy variables"
      ]
    },
    {
      "metadata": {
        "id": "pMkcfDYr6vPs",
        "colab_type": "code",
        "colab": {
          "base_uri": "https://localhost:8080/",
          "height": 357
        },
        "outputId": "8c49c88c-950b-4550-af4b-169eee96195c"
      },
      "cell_type": "code",
      "source": [
        "cat_vars=['Margins', 'Stable Cash Flow',\n",
        "       'Industry Growth', 'Fragmented Industry', 'Straightforward Operations',\n",
        "       'Exogenous Risk', 'Barriers to Entry', 'Employee Estimate',\n",
        "       'Stickiness', 'Supplier Power', 'Customer Power',\n",
        "       'Service vs Project/Product', 'Longterm Relationships',\n",
        "       'Customer Concentration']\n",
        "for var in cat_vars:\n",
        "    cat_list='var'+'_'+var\n",
        "    cat_list = pd.get_dummies(dataframe[var], prefix=var)\n",
        "    dataframe1=dataframe.join(cat_list)\n",
        "    dataframe=dataframe1\n",
        "    \n",
        "cat_vars=['Margins', 'Stable Cash Flow',\n",
        "       'Industry Growth', 'Fragmented Industry', 'Straightforward Operations',\n",
        "       'Exogenous Risk', 'Barriers to Entry', 'Employee Estimate',\n",
        "       'Stickiness', 'Supplier Power', 'Customer Power',\n",
        "       'Service vs Project/Product', 'Longterm Relationships',\n",
        "       'Customer Concentration','Industry', 'URLtrim']\n",
        "dataframe_vars=dataframe.columns.values.tolist()\n",
        "to_keep=[i for i in dataframe_vars if i not in cat_vars]\n",
        "dataframe_final=dataframe[to_keep]\n",
        "dataframe_final.columns.values"
      ],
      "execution_count": 15,
      "outputs": [
        {
          "output_type": "execute_result",
          "data": {
            "text/plain": [
              "array(['Score', 'Year Founded', 'Recurring Revenue (million)',\n",
              "       'Margins_high', 'Margins_low', 'Margins_medium',\n",
              "       'Stable Cash Flow_high', 'Stable Cash Flow_low',\n",
              "       'Stable Cash Flow_medium', 'Industry Growth_high',\n",
              "       'Industry Growth_low', 'Industry Growth_medium',\n",
              "       'Fragmented Industry_high', 'Fragmented Industry_low',\n",
              "       'Fragmented Industry_medium', 'Straightforward Operations_no',\n",
              "       'Straightforward Operations_yes', 'Exogenous Risk_high',\n",
              "       'Exogenous Risk_low', 'Exogenous Risk_medium',\n",
              "       'Barriers to Entry_high', 'Barriers to Entry_low',\n",
              "       'Barriers to Entry_medium', 'Employee Estimate_11-50',\n",
              "       'Employee Estimate_2-10', 'Employee Estimate_201-1000',\n",
              "       'Employee Estimate_51-200', 'Stickiness_high', 'Stickiness_low',\n",
              "       'Stickiness_medium', 'Supplier Power_high', 'Supplier Power_low',\n",
              "       'Supplier Power_medium', 'Customer Power_high',\n",
              "       'Customer Power_medium', 'Service vs Project/Product_product',\n",
              "       'Service vs Project/Product_service', 'Longterm Relationships_no',\n",
              "       'Longterm Relationships_yes', 'Customer Concentration_high',\n",
              "       'Customer Concentration_low', 'Customer Concentration_medium'],\n",
              "      dtype=object)"
            ]
          },
          "metadata": {
            "tags": []
          },
          "execution_count": 15
        }
      ]
    },
    {
      "metadata": {
        "id": "RZIthYx9_lN3",
        "colab_type": "text"
      },
      "cell_type": "markdown",
      "source": [
        "Oversampling using SMOTE\n"
      ]
    },
    {
      "metadata": {
        "id": "z5dmI_sv_kaS",
        "colab_type": "code",
        "colab": {}
      },
      "cell_type": "code",
      "source": [
        "X = dataframe_final.loc[:, dataframe_final.columns != 'Score']\n",
        "y = dataframe_final.loc[:, dataframe_final.columns == 'Score']"
      ],
      "execution_count": 0,
      "outputs": []
    },
    {
      "metadata": {
        "id": "LbHYPJkgBHZ1",
        "colab_type": "code",
        "colab": {
          "base_uri": "https://localhost:8080/",
          "height": 102
        },
        "outputId": "aad291aa-4308-485a-81c2-d34b51a3c3df"
      },
      "cell_type": "code",
      "source": [
        "!pip install imblearn"
      ],
      "execution_count": 17,
      "outputs": [
        {
          "output_type": "stream",
          "text": [
            "Requirement already satisfied: imblearn in /usr/local/lib/python3.6/dist-packages (0.0)\n",
            "Requirement already satisfied: imbalanced-learn in /usr/local/lib/python3.6/dist-packages (from imblearn) (0.4.3)\n",
            "Requirement already satisfied: scikit-learn>=0.20 in /usr/local/lib/python3.6/dist-packages (from imbalanced-learn->imblearn) (0.20.1)\n",
            "Requirement already satisfied: numpy>=1.8.2 in /usr/local/lib/python3.6/dist-packages (from imbalanced-learn->imblearn) (1.14.6)\n",
            "Requirement already satisfied: scipy>=0.13.3 in /usr/local/lib/python3.6/dist-packages (from imbalanced-learn->imblearn) (1.1.0)\n"
          ],
          "name": "stdout"
        }
      ]
    },
    {
      "metadata": {
        "id": "uahWtHIZCb_T",
        "colab_type": "code",
        "colab": {
          "base_uri": "https://localhost:8080/",
          "height": 156
        },
        "outputId": "66f9e0ce-e452-4e7d-8dcc-cdbef771a6eb"
      },
      "cell_type": "code",
      "source": [
        "from imblearn.over_sampling import SMOTE\n",
        "\n",
        "os = SMOTE(random_state=0)\n",
        "X_train, X_test, y_train, y_test = train_test_split(X, y, test_size=0.3, random_state=0)\n",
        "columns = X_train.columns\n",
        "\n",
        "os_data_X,os_data_y=os.fit_sample(X_train, y_train)\n",
        "os_data_X = pd.DataFrame(data=os_data_X,columns=columns )\n",
        "os_data_y= pd.DataFrame(data=os_data_y,columns=['Score'])\n",
        "# we can Check the numbers of our data\n",
        "print(\"length of oversampled data is \",len(os_data_X))\n",
        "print(\"Number of reject in oversampled data\",len(os_data_y[os_data_y['Score']==0]))\n",
        "print(\"Number of accept data\",len(os_data_y[os_data_y['Score']==1]))\n",
        "print(\"Proportion of reject data in oversampled data is \",len(os_data_y[os_data_y['Score']==0])/len(os_data_X))\n",
        "print(\"Proportion of accept data in oversampled data is \",len(os_data_y[os_data_y['Score']==1])/len(os_data_X))"
      ],
      "execution_count": 18,
      "outputs": [
        {
          "output_type": "stream",
          "text": [
            "length of oversampled data is  238\n",
            "Number of reject in oversampled data 119\n",
            "Number of accept data 119\n",
            "Proportion of reject data in oversampled data is  0.5\n",
            "Proportion of accept data in oversampled data is  0.5\n"
          ],
          "name": "stdout"
        },
        {
          "output_type": "stream",
          "text": [
            "/usr/local/lib/python3.6/dist-packages/sklearn/utils/validation.py:761: DataConversionWarning: A column-vector y was passed when a 1d array was expected. Please change the shape of y to (n_samples, ), for example using ravel().\n",
            "  y = column_or_1d(y, warn=True)\n"
          ],
          "name": "stderr"
        }
      ]
    },
    {
      "metadata": {
        "id": "cvElsoUmFcOu",
        "colab_type": "code",
        "colab": {
          "base_uri": "https://localhost:8080/",
          "height": 54
        },
        "outputId": "09ad2102-f268-4378-ad83-376c1e4f41f4"
      },
      "cell_type": "code",
      "source": [
        "data_final_vars=dataframe_final.columns.values.tolist()\n",
        "y=['Score']\n",
        "X=[i for i in data_final_vars if i not in y]\n",
        "\n",
        "print(X)"
      ],
      "execution_count": 19,
      "outputs": [
        {
          "output_type": "stream",
          "text": [
            "['Year Founded', 'Recurring Revenue (million)', 'Margins_high', 'Margins_low', 'Margins_medium', 'Stable Cash Flow_high', 'Stable Cash Flow_low', 'Stable Cash Flow_medium', 'Industry Growth_high', 'Industry Growth_low', 'Industry Growth_medium', 'Fragmented Industry_high', 'Fragmented Industry_low', 'Fragmented Industry_medium', 'Straightforward Operations_no', 'Straightforward Operations_yes', 'Exogenous Risk_high', 'Exogenous Risk_low', 'Exogenous Risk_medium', 'Barriers to Entry_high', 'Barriers to Entry_low', 'Barriers to Entry_medium', 'Employee Estimate_11-50', 'Employee Estimate_2-10', 'Employee Estimate_201-1000', 'Employee Estimate_51-200', 'Stickiness_high', 'Stickiness_low', 'Stickiness_medium', 'Supplier Power_high', 'Supplier Power_low', 'Supplier Power_medium', 'Customer Power_high', 'Customer Power_medium', 'Service vs Project/Product_product', 'Service vs Project/Product_service', 'Longterm Relationships_no', 'Longterm Relationships_yes', 'Customer Concentration_high', 'Customer Concentration_low', 'Customer Concentration_medium']\n"
          ],
          "name": "stdout"
        }
      ]
    },
    {
      "metadata": {
        "id": "nDdwbFCfOKd2",
        "colab_type": "text"
      },
      "cell_type": "markdown",
      "source": [
        "Recursive Feature Elimination"
      ]
    },
    {
      "metadata": {
        "id": "hPvzKDCQFfXv",
        "colab_type": "code",
        "colab": {
          "base_uri": "https://localhost:8080/",
          "height": 887
        },
        "outputId": "30161d50-df42-4ced-ffec-dd19762f2093"
      },
      "cell_type": "code",
      "source": [
        "from sklearn import datasets\n",
        "from sklearn.feature_selection import RFE\n",
        "from sklearn.linear_model import LogisticRegression\n",
        "\n",
        "logreg = LogisticRegression()\n",
        "\n",
        "rfe = RFE(logreg, 20)\n",
        "rfe = rfe.fit(os_data_X.astype(float), os_data_y.values.ravel().astype(int))\n",
        "print(rfe.support_)\n",
        "print(rfe.ranking_)"
      ],
      "execution_count": 20,
      "outputs": [
        {
          "output_type": "stream",
          "text": [
            "[False False  True  True False False False False  True  True False False\n",
            " False False  True False False  True  True  True  True False False False\n",
            "  True False False False  True False  True  True  True False  True  True\n",
            "  True  True  True False  True]\n",
            "[20 19  1  1  9 22 18  6  1  1 11  5 13 10  1  2 21  1  1  1  1  4 17 15\n",
            "  1 16  3  7  1 14  1  1  1  8  1  1  1  1  1 12  1]\n"
          ],
          "name": "stdout"
        },
        {
          "output_type": "stream",
          "text": [
            "/usr/local/lib/python3.6/dist-packages/sklearn/linear_model/logistic.py:433: FutureWarning: Default solver will be changed to 'lbfgs' in 0.22. Specify a solver to silence this warning.\n",
            "  FutureWarning)\n",
            "/usr/local/lib/python3.6/dist-packages/sklearn/linear_model/logistic.py:433: FutureWarning: Default solver will be changed to 'lbfgs' in 0.22. Specify a solver to silence this warning.\n",
            "  FutureWarning)\n",
            "/usr/local/lib/python3.6/dist-packages/sklearn/linear_model/logistic.py:433: FutureWarning: Default solver will be changed to 'lbfgs' in 0.22. Specify a solver to silence this warning.\n",
            "  FutureWarning)\n",
            "/usr/local/lib/python3.6/dist-packages/sklearn/linear_model/logistic.py:433: FutureWarning: Default solver will be changed to 'lbfgs' in 0.22. Specify a solver to silence this warning.\n",
            "  FutureWarning)\n",
            "/usr/local/lib/python3.6/dist-packages/sklearn/linear_model/logistic.py:433: FutureWarning: Default solver will be changed to 'lbfgs' in 0.22. Specify a solver to silence this warning.\n",
            "  FutureWarning)\n",
            "/usr/local/lib/python3.6/dist-packages/sklearn/linear_model/logistic.py:433: FutureWarning: Default solver will be changed to 'lbfgs' in 0.22. Specify a solver to silence this warning.\n",
            "  FutureWarning)\n",
            "/usr/local/lib/python3.6/dist-packages/sklearn/linear_model/logistic.py:433: FutureWarning: Default solver will be changed to 'lbfgs' in 0.22. Specify a solver to silence this warning.\n",
            "  FutureWarning)\n",
            "/usr/local/lib/python3.6/dist-packages/sklearn/linear_model/logistic.py:433: FutureWarning: Default solver will be changed to 'lbfgs' in 0.22. Specify a solver to silence this warning.\n",
            "  FutureWarning)\n",
            "/usr/local/lib/python3.6/dist-packages/sklearn/linear_model/logistic.py:433: FutureWarning: Default solver will be changed to 'lbfgs' in 0.22. Specify a solver to silence this warning.\n",
            "  FutureWarning)\n",
            "/usr/local/lib/python3.6/dist-packages/sklearn/linear_model/logistic.py:433: FutureWarning: Default solver will be changed to 'lbfgs' in 0.22. Specify a solver to silence this warning.\n",
            "  FutureWarning)\n",
            "/usr/local/lib/python3.6/dist-packages/sklearn/linear_model/logistic.py:433: FutureWarning: Default solver will be changed to 'lbfgs' in 0.22. Specify a solver to silence this warning.\n",
            "  FutureWarning)\n",
            "/usr/local/lib/python3.6/dist-packages/sklearn/linear_model/logistic.py:433: FutureWarning: Default solver will be changed to 'lbfgs' in 0.22. Specify a solver to silence this warning.\n",
            "  FutureWarning)\n",
            "/usr/local/lib/python3.6/dist-packages/sklearn/linear_model/logistic.py:433: FutureWarning: Default solver will be changed to 'lbfgs' in 0.22. Specify a solver to silence this warning.\n",
            "  FutureWarning)\n",
            "/usr/local/lib/python3.6/dist-packages/sklearn/linear_model/logistic.py:433: FutureWarning: Default solver will be changed to 'lbfgs' in 0.22. Specify a solver to silence this warning.\n",
            "  FutureWarning)\n",
            "/usr/local/lib/python3.6/dist-packages/sklearn/linear_model/logistic.py:433: FutureWarning: Default solver will be changed to 'lbfgs' in 0.22. Specify a solver to silence this warning.\n",
            "  FutureWarning)\n",
            "/usr/local/lib/python3.6/dist-packages/sklearn/linear_model/logistic.py:433: FutureWarning: Default solver will be changed to 'lbfgs' in 0.22. Specify a solver to silence this warning.\n",
            "  FutureWarning)\n",
            "/usr/local/lib/python3.6/dist-packages/sklearn/linear_model/logistic.py:433: FutureWarning: Default solver will be changed to 'lbfgs' in 0.22. Specify a solver to silence this warning.\n",
            "  FutureWarning)\n",
            "/usr/local/lib/python3.6/dist-packages/sklearn/linear_model/logistic.py:433: FutureWarning: Default solver will be changed to 'lbfgs' in 0.22. Specify a solver to silence this warning.\n",
            "  FutureWarning)\n",
            "/usr/local/lib/python3.6/dist-packages/sklearn/linear_model/logistic.py:433: FutureWarning: Default solver will be changed to 'lbfgs' in 0.22. Specify a solver to silence this warning.\n",
            "  FutureWarning)\n",
            "/usr/local/lib/python3.6/dist-packages/sklearn/linear_model/logistic.py:433: FutureWarning: Default solver will be changed to 'lbfgs' in 0.22. Specify a solver to silence this warning.\n",
            "  FutureWarning)\n",
            "/usr/local/lib/python3.6/dist-packages/sklearn/linear_model/logistic.py:433: FutureWarning: Default solver will be changed to 'lbfgs' in 0.22. Specify a solver to silence this warning.\n",
            "  FutureWarning)\n",
            "/usr/local/lib/python3.6/dist-packages/sklearn/linear_model/logistic.py:433: FutureWarning: Default solver will be changed to 'lbfgs' in 0.22. Specify a solver to silence this warning.\n",
            "  FutureWarning)\n"
          ],
          "name": "stderr"
        }
      ]
    },
    {
      "metadata": {
        "id": "xsv-uvonGg1W",
        "colab_type": "code",
        "colab": {
          "base_uri": "https://localhost:8080/",
          "height": 34
        },
        "outputId": "a8a8c065-de3a-4062-8d01-d5afbeee0f2b"
      },
      "cell_type": "code",
      "source": [
        "#cols = ['Customer Concentration_medium']\n",
        "cols = rfe.get_support().tolist() #list of booleans\n",
        "new_features = [] # The list of your K best features\n",
        "\n",
        "for bool, feature in zip(cols, os_data_X.columns.values):\n",
        "    if bool:\n",
        "        new_features.append(feature)\n",
        "        \n",
        "X=os_data_X[new_features]\n",
        "y=os_data_y['Score']\n",
        "\n",
        "print(os_data_y['Score'].unique())"
      ],
      "execution_count": 21,
      "outputs": [
        {
          "output_type": "stream",
          "text": [
            "[1 0]\n"
          ],
          "name": "stdout"
        }
      ]
    },
    {
      "metadata": {
        "id": "_1AQar_kOVgf",
        "colab_type": "code",
        "colab": {
          "base_uri": "https://localhost:8080/",
          "height": 187
        },
        "outputId": "ad90e777-ba08-4245-ce04-149981b613ec"
      },
      "cell_type": "code",
      "source": [
        "print(X.columns)"
      ],
      "execution_count": 22,
      "outputs": [
        {
          "output_type": "stream",
          "text": [
            "Index(['Margins_high', 'Margins_low', 'Industry Growth_high',\n",
            "       'Industry Growth_low', 'Straightforward Operations_no',\n",
            "       'Exogenous Risk_low', 'Exogenous Risk_medium', 'Barriers to Entry_high',\n",
            "       'Barriers to Entry_low', 'Employee Estimate_201-1000',\n",
            "       'Stickiness_medium', 'Supplier Power_low', 'Supplier Power_medium',\n",
            "       'Customer Power_high', 'Service vs Project/Product_product',\n",
            "       'Service vs Project/Product_service', 'Longterm Relationships_no',\n",
            "       'Longterm Relationships_yes', 'Customer Concentration_high',\n",
            "       'Customer Concentration_medium'],\n",
            "      dtype='object')\n"
          ],
          "name": "stdout"
        }
      ]
    },
    {
      "metadata": {
        "id": "8Pfh_sNWO4eK",
        "colab_type": "code",
        "colab": {
          "base_uri": "https://localhost:8080/",
          "height": 768
        },
        "outputId": "77ad0164-0104-4f1e-d2e7-2e1a2139a4c9"
      },
      "cell_type": "code",
      "source": [
        "import statsmodels.api as sm\n",
        "logit_model=sm.Logit(y.astype(int),X.astype(int))\n",
        "result=logit_model.fit(method='bfgs')\n",
        "print(result.summary2())"
      ],
      "execution_count": 23,
      "outputs": [
        {
          "output_type": "stream",
          "text": [
            "/usr/local/lib/python3.6/dist-packages/statsmodels/compat/pandas.py:56: FutureWarning: The pandas.core.datetools module is deprecated and will be removed in a future version. Please use the pandas.tseries module instead.\n",
            "  from pandas.core import datetools\n",
            "/usr/local/lib/python3.6/dist-packages/statsmodels/base/model.py:496: ConvergenceWarning: Maximum Likelihood optimization failed to converge. Check mle_retvals\n",
            "  \"Check mle_retvals\", ConvergenceWarning)\n"
          ],
          "name": "stderr"
        },
        {
          "output_type": "stream",
          "text": [
            "Warning: Maximum number of iterations has been exceeded.\n",
            "         Current function value: 0.349670\n",
            "         Iterations: 35\n",
            "         Function evaluations: 36\n",
            "         Gradient evaluations: 36\n",
            "                                  Results: Logit\n",
            "==================================================================================\n",
            "Model:                     Logit                  Pseudo R-squared:       0.496   \n",
            "Dependent Variable:        Score                  AIC:                    206.4431\n",
            "Date:                      2018-12-02 11:08       BIC:                    275.8885\n",
            "No. Observations:          238                    Log-Likelihood:         -83.222 \n",
            "Df Model:                  19                     LL-Null:                -164.97 \n",
            "Df Residuals:              218                    Scale:                  1.0000  \n",
            "Converged:                 0.0000                                                 \n",
            "----------------------------------------------------------------------------------\n",
            "                                    Coef.  Std.Err.    z    P>|z|   [0.025  0.975]\n",
            "----------------------------------------------------------------------------------\n",
            "Margins_high                        1.9161   2.3178  0.8267 0.4084 -2.6268  6.4590\n",
            "Margins_low                        -1.2163   0.4906 -2.4794 0.0132 -2.1778 -0.2548\n",
            "Industry Growth_high               -1.5090   0.6066 -2.4876 0.0129 -2.6979 -0.3201\n",
            "Industry Growth_low                -0.8941   0.5068 -1.7640 0.0777 -1.8874  0.0993\n",
            "Straightforward Operations_no      -2.1474   2.5878 -0.8298 0.4067 -7.2195  2.9247\n",
            "Exogenous Risk_low                  1.2703   1.6099  0.7890 0.4301 -1.8851  4.4256\n",
            "Exogenous Risk_medium              -0.5335   1.8574 -0.2872 0.7739 -4.1740  3.1070\n",
            "Barriers to Entry_high             -1.4565   4.3416 -0.3355 0.7373 -9.9657  7.0528\n",
            "Barriers to Entry_low               2.3523   0.9579  2.4558 0.0141  0.4749  4.2297\n",
            "Employee Estimate_201-1000         -1.0430   3.7707 -0.2766 0.7821 -8.4333  6.3474\n",
            "Stickiness_medium                   0.2746   0.5239  0.5242 0.6001 -0.7521  1.3013\n",
            "Supplier Power_low                  0.8825   0.9620  0.9174 0.3590 -1.0029  2.7679\n",
            "Supplier Power_medium              -2.2855   0.7017 -3.2573 0.0011 -3.6608 -0.9103\n",
            "Customer Power_high                -2.7684   0.8183 -3.3831 0.0007 -4.3723 -1.1646\n",
            "Service vs Project/Product_product -2.8399   1.6106 -1.7632 0.0779 -5.9965  0.3168\n",
            "Service vs Project/Product_service  1.1231   1.4529  0.7730 0.4395 -1.7244  3.9707\n",
            "Longterm Relationships_no           0.7207   0.9127  0.7896 0.4297 -1.0682  2.5096\n",
            "Longterm Relationships_yes         -3.3688   0.8784 -3.8353 0.0001 -5.0904 -1.6472\n",
            "Customer Concentration_high        -1.9389   2.2963 -0.8443 0.3985 -6.4395  2.5618\n",
            "Customer Concentration_medium       1.3225   0.5567  2.3757 0.0175  0.2314  2.4135\n",
            "==================================================================================\n",
            "\n"
          ],
          "name": "stdout"
        }
      ]
    },
    {
      "metadata": {
        "id": "dgStM54tiB8h",
        "colab_type": "text"
      },
      "cell_type": "markdown",
      "source": [
        "Drop the columns with higher P values"
      ]
    },
    {
      "metadata": {
        "id": "lf4qbAzpcAiM",
        "colab_type": "text"
      },
      "cell_type": "markdown",
      "source": [
        "Logistic Regression Model Fitting"
      ]
    },
    {
      "metadata": {
        "id": "OmURfDyAb97K",
        "colab_type": "code",
        "colab": {
          "base_uri": "https://localhost:8080/",
          "height": 139
        },
        "outputId": "e586122e-c3a5-407f-aa02-16ea9b3dc156"
      },
      "cell_type": "code",
      "source": [
        "from sklearn.linear_model import LogisticRegression\n",
        "from sklearn import metrics\n",
        "\n",
        "X_train, X_test, y_train, y_test = train_test_split(X, y, test_size=0.3, random_state=0)\n",
        "logreg = LogisticRegression()\n",
        "logreg.fit(X_train.astype(float), y_train.astype(int))"
      ],
      "execution_count": 24,
      "outputs": [
        {
          "output_type": "stream",
          "text": [
            "/usr/local/lib/python3.6/dist-packages/sklearn/linear_model/logistic.py:433: FutureWarning: Default solver will be changed to 'lbfgs' in 0.22. Specify a solver to silence this warning.\n",
            "  FutureWarning)\n"
          ],
          "name": "stderr"
        },
        {
          "output_type": "execute_result",
          "data": {
            "text/plain": [
              "LogisticRegression(C=1.0, class_weight=None, dual=False, fit_intercept=True,\n",
              "          intercept_scaling=1, max_iter=100, multi_class='warn',\n",
              "          n_jobs=None, penalty='l2', random_state=None, solver='warn',\n",
              "          tol=0.0001, verbose=0, warm_start=False)"
            ]
          },
          "metadata": {
            "tags": []
          },
          "execution_count": 24
        }
      ]
    },
    {
      "metadata": {
        "id": "mKdurChhcSGf",
        "colab_type": "code",
        "colab": {
          "base_uri": "https://localhost:8080/",
          "height": 34
        },
        "outputId": "3155899e-e78f-4c68-a893-2a22252a5df9"
      },
      "cell_type": "code",
      "source": [
        "y_pred = logreg.predict(X_test.astype(float))\n",
        "print('Accuracy of logistic regression classifier on test set: {:.2f}'.format(logreg.score(X_test, y_test)))"
      ],
      "execution_count": 25,
      "outputs": [
        {
          "output_type": "stream",
          "text": [
            "Accuracy of logistic regression classifier on test set: 0.78\n"
          ],
          "name": "stdout"
        }
      ]
    },
    {
      "metadata": {
        "id": "GiYAy9myeXSM",
        "colab_type": "text"
      },
      "cell_type": "markdown",
      "source": [
        "Confusion Matrix"
      ]
    },
    {
      "metadata": {
        "id": "oaR2sAmMeZuo",
        "colab_type": "code",
        "colab": {
          "base_uri": "https://localhost:8080/",
          "height": 51
        },
        "outputId": "563f12fd-d4e8-4a00-b181-5eeb659b99dc"
      },
      "cell_type": "code",
      "source": [
        "from sklearn.metrics import confusion_matrix\n",
        "confusion_matrix = confusion_matrix(y_test, y_pred)\n",
        "print(confusion_matrix)"
      ],
      "execution_count": 26,
      "outputs": [
        {
          "output_type": "stream",
          "text": [
            "[[23  8]\n",
            " [ 8 33]]\n"
          ],
          "name": "stdout"
        }
      ]
    },
    {
      "metadata": {
        "id": "lbn3qm4Feg-T",
        "colab_type": "code",
        "colab": {
          "base_uri": "https://localhost:8080/",
          "height": 170
        },
        "outputId": "8f53a7cd-a627-41ad-a716-d2d1e30cbd12"
      },
      "cell_type": "code",
      "source": [
        "from sklearn.metrics import classification_report\n",
        "print(classification_report(y_test, y_pred))"
      ],
      "execution_count": 27,
      "outputs": [
        {
          "output_type": "stream",
          "text": [
            "              precision    recall  f1-score   support\n",
            "\n",
            "           0       0.74      0.74      0.74        31\n",
            "           1       0.80      0.80      0.80        41\n",
            "\n",
            "   micro avg       0.78      0.78      0.78        72\n",
            "   macro avg       0.77      0.77      0.77        72\n",
            "weighted avg       0.78      0.78      0.78        72\n",
            "\n"
          ],
          "name": "stdout"
        }
      ]
    },
    {
      "metadata": {
        "id": "Aq34f1G_ekwF",
        "colab_type": "text"
      },
      "cell_type": "markdown",
      "source": [
        "\n",
        "Interpretation:\n",
        "Of the entire test set, 74% of the promoted term deposit were the term deposit that the customers liked. Of the entire test set, 74% of the customer's preferred term deposit were promoted."
      ]
    },
    {
      "metadata": {
        "id": "ImF11x0Ueo0d",
        "colab_type": "text"
      },
      "cell_type": "markdown",
      "source": [
        "ROC curve"
      ]
    },
    {
      "metadata": {
        "id": "xbnM8gzoerUC",
        "colab_type": "code",
        "colab": {
          "base_uri": "https://localhost:8080/",
          "height": 376
        },
        "outputId": "b3982789-f574-4926-c275-eb9b2fe55f34"
      },
      "cell_type": "code",
      "source": [
        "\n",
        "from sklearn.metrics import roc_auc_score\n",
        "from sklearn.metrics import roc_curve\n",
        "logit_roc_auc = roc_auc_score(y_test, logreg.predict(X_test))\n",
        "fpr, tpr, thresholds = roc_curve(y_test, logreg.predict_proba(X_test)[:,1])\n",
        "plt.figure()\n",
        "plt.plot(fpr, tpr, label='Logistic Regression (area = %0.2f)' % logit_roc_auc)\n",
        "plt.plot([0, 1], [0, 1],'r--')\n",
        "plt.xlim([0.0, 1.0])\n",
        "plt.ylim([0.0, 1.05])\n",
        "plt.xlabel('False Positive Rate')\n",
        "plt.ylabel('True Positive Rate')\n",
        "plt.title('Receiver operating characteristic')\n",
        "plt.legend(loc=\"lower right\")\n",
        "plt.savefig('Log_ROC')\n",
        "plt.show()"
      ],
      "execution_count": 28,
      "outputs": [
        {
          "output_type": "display_data",
          "data": {
            "image/png": "[encoded data removed]",
            "text/plain": [
              "<matplotlib.figure.Figure at 0x7f940bc45128>"
            ]
          },
          "metadata": {
            "tags": []
          }
        }
      ]
    },
    {
      "metadata": {
        "id": "F9jWF70KqRDO",
        "colab_type": "text"
      },
      "cell_type": "markdown",
      "source": [
        "Decision Tree"
      ]
    },
    {
      "metadata": {
        "id": "l_6mCJUWqQFm",
        "colab_type": "code",
        "colab": {
          "base_uri": "https://localhost:8080/",
          "height": 51
        },
        "outputId": "185e238e-dc97-4522-811f-033d5074022b"
      },
      "cell_type": "code",
      "source": [
        "from sklearn.tree import DecisionTreeClassifier\n",
        "clf = DecisionTreeClassifier().fit(X_train, y_train)\n",
        "print('Accuracy of Decision Tree classifier on training set: {:.2f}'\n",
        "     .format(clf.score(X_train, y_train)))\n",
        "print('Accuracy of Decision Tree classifier on test set: {:.2f}'\n",
        "     .format(clf.score(X_test, y_test)))"
      ],
      "execution_count": 29,
      "outputs": [
        {
          "output_type": "stream",
          "text": [
            "Accuracy of Decision Tree classifier on training set: 0.95\n",
            "Accuracy of Decision Tree classifier on test set: 0.75\n"
          ],
          "name": "stdout"
        }
      ]
    },
    {
      "metadata": {
        "id": "vJ-S18_cqfK_",
        "colab_type": "text"
      },
      "cell_type": "markdown",
      "source": [
        "K-Nearest Neighbors"
      ]
    },
    {
      "metadata": {
        "id": "XYiOLWNkqf_Y",
        "colab_type": "code",
        "colab": {
          "base_uri": "https://localhost:8080/",
          "height": 51
        },
        "outputId": "69873270-62e8-47c1-8a87-4812eaa4e50c"
      },
      "cell_type": "code",
      "source": [
        "from sklearn.neighbors import KNeighborsClassifier\n",
        "knn = KNeighborsClassifier()\n",
        "knn.fit(X_train, y_train)\n",
        "print('Accuracy of K-NN classifier on training set: {:.2f}'\n",
        "     .format(knn.score(X_train, y_train)))\n",
        "print('Accuracy of K-NN classifier on test set: {:.2f}'\n",
        "     .format(knn.score(X_test, y_test)))"
      ],
      "execution_count": 30,
      "outputs": [
        {
          "output_type": "stream",
          "text": [
            "Accuracy of K-NN classifier on training set: 0.86\n",
            "Accuracy of K-NN classifier on test set: 0.83\n"
          ],
          "name": "stdout"
        }
      ]
    },
    {
      "metadata": {
        "id": "wcu4hrRHqk9X",
        "colab_type": "text"
      },
      "cell_type": "markdown",
      "source": [
        "Linear Discriminant Analysis"
      ]
    },
    {
      "metadata": {
        "id": "djFOFrLKql13",
        "colab_type": "code",
        "colab": {
          "base_uri": "https://localhost:8080/",
          "height": 85
        },
        "outputId": "48a6aca4-f1b1-46a7-915c-67acdae0299d"
      },
      "cell_type": "code",
      "source": [
        "from sklearn.discriminant_analysis import LinearDiscriminantAnalysis\n",
        "lda = LinearDiscriminantAnalysis()\n",
        "lda.fit(X_train, y_train)\n",
        "print('Accuracy of LDA classifier on training set: {:.2f}'\n",
        "     .format(lda.score(X_train, y_train)))\n",
        "print('Accuracy of LDA classifier on test set: {:.2f}'\n",
        "     .format(lda.score(X_test, y_test)))"
      ],
      "execution_count": 31,
      "outputs": [
        {
          "output_type": "stream",
          "text": [
            "Accuracy of LDA classifier on training set: 0.83\n",
            "Accuracy of LDA classifier on test set: 0.78\n"
          ],
          "name": "stdout"
        },
        {
          "output_type": "stream",
          "text": [
            "/usr/local/lib/python3.6/dist-packages/sklearn/discriminant_analysis.py:388: UserWarning: Variables are collinear.\n",
            "  warnings.warn(\"Variables are collinear.\")\n"
          ],
          "name": "stderr"
        }
      ]
    },
    {
      "metadata": {
        "id": "l88-MJiGqqaM",
        "colab_type": "text"
      },
      "cell_type": "markdown",
      "source": [
        "Gaussian Naive Bayes"
      ]
    },
    {
      "metadata": {
        "id": "t0IxBKOsqtic",
        "colab_type": "code",
        "colab": {
          "base_uri": "https://localhost:8080/",
          "height": 51
        },
        "outputId": "69e9de32-527a-4a4f-8d7f-e8a5b3ca26c1"
      },
      "cell_type": "code",
      "source": [
        "from sklearn.naive_bayes import GaussianNB\n",
        "gnb = GaussianNB()\n",
        "gnb.fit(X_train, y_train)\n",
        "print('Accuracy of GNB classifier on training set: {:.2f}'\n",
        "     .format(gnb.score(X_train, y_train)))\n",
        "print('Accuracy of GNB classifier on test set: {:.2f}'\n",
        "     .format(gnb.score(X_test, y_test)))"
      ],
      "execution_count": 32,
      "outputs": [
        {
          "output_type": "stream",
          "text": [
            "Accuracy of GNB classifier on training set: 0.63\n",
            "Accuracy of GNB classifier on test set: 0.68\n"
          ],
          "name": "stdout"
        }
      ]
    },
    {
      "metadata": {
        "id": "uOboo8dDqxIt",
        "colab_type": "text"
      },
      "cell_type": "markdown",
      "source": [
        "Support Vector Machine"
      ]
    },
    {
      "metadata": {
        "id": "HprsC5wtqwV7",
        "colab_type": "code",
        "colab": {
          "base_uri": "https://localhost:8080/",
          "height": 105
        },
        "outputId": "965e8e7e-38f7-4b11-afc7-c1c2e88791ec"
      },
      "cell_type": "code",
      "source": [
        "from sklearn.svm import SVC\n",
        "svm = SVC()\n",
        "svm.fit(X_train, y_train)\n",
        "print('Accuracy of SVM classifier on training set: {:.2f}'\n",
        "     .format(svm.score(X_train, y_train)))\n",
        "print('Accuracy of SVM classifier on test set: {:.2f}'\n",
        "     .format(svm.score(X_test, y_test)))"
      ],
      "execution_count": 33,
      "outputs": [
        {
          "output_type": "stream",
          "text": [
            "Accuracy of SVM classifier on training set: 0.80\n",
            "Accuracy of SVM classifier on test set: 0.75\n"
          ],
          "name": "stdout"
        },
        {
          "output_type": "stream",
          "text": [
            "/usr/local/lib/python3.6/dist-packages/sklearn/svm/base.py:196: FutureWarning: The default value of gamma will change from 'auto' to 'scale' in version 0.22 to account better for unscaled features. Set gamma explicitly to 'auto' or 'scale' to avoid this warning.\n",
            "  \"avoid this warning.\", FutureWarning)\n"
          ],
          "name": "stderr"
        }
      ]
    },
    {
      "metadata": {
        "id": "KgmqV4-hq5kz",
        "colab_type": "text"
      },
      "cell_type": "markdown",
      "source": [
        "The KNN algorithm was the most accurate model that we tried. The confusion matrix provides an indication of no error made on the test set. However, the test set was very small."
      ]
    },
    {
      "metadata": {
        "id": "7p_dEV6Xq7vg",
        "colab_type": "code",
        "colab": {
          "base_uri": "https://localhost:8080/",
          "height": 204
        },
        "outputId": "5ec60d58-ce00-4747-b43b-eafdddabd8fa"
      },
      "cell_type": "code",
      "source": [
        "from sklearn.metrics import classification_report\n",
        "from sklearn.metrics import confusion_matrix\n",
        "pred = knn.predict(X_test)\n",
        "print(confusion_matrix(y_test, pred))\n",
        "print(classification_report(y_test, pred))"
      ],
      "execution_count": 34,
      "outputs": [
        {
          "output_type": "stream",
          "text": [
            "[[23  8]\n",
            " [ 4 37]]\n",
            "              precision    recall  f1-score   support\n",
            "\n",
            "           0       0.85      0.74      0.79        31\n",
            "           1       0.82      0.90      0.86        41\n",
            "\n",
            "   micro avg       0.83      0.83      0.83        72\n",
            "   macro avg       0.84      0.82      0.83        72\n",
            "weighted avg       0.83      0.83      0.83        72\n",
            "\n"
          ],
          "name": "stdout"
        }
      ]
    },
    {
      "metadata": {
        "id": "dMeLaLKIrGbn",
        "colab_type": "text"
      },
      "cell_type": "markdown",
      "source": [
        "With this dataset, accuracy is at the highest when k=5."
      ]
    },
    {
      "metadata": {
        "id": "tbglUh-rri_-",
        "colab_type": "code",
        "colab": {
          "base_uri": "https://localhost:8080/",
          "height": 463
        },
        "outputId": "da6ec4bb-27c1-41ba-ca86-0f9add31ae66"
      },
      "cell_type": "code",
      "source": [
        "k_range = range(1, 20)\n",
        "scores = []\n",
        "for k in k_range:\n",
        "    knn = KNeighborsClassifier(n_neighbors = k)\n",
        "    knn.fit(X_train, y_train)\n",
        "    scores.append(knn.score(X_test, y_test))\n",
        "plt.figure()\n",
        "plt.xlabel('k')\n",
        "plt.ylabel('accuracy')\n",
        "plt.scatter(k_range, scores)\n",
        "plt.xticks([0,5,10,15,20])"
      ],
      "execution_count": 37,
      "outputs": [
        {
          "output_type": "execute_result",
          "data": {
            "text/plain": [
              "([<matplotlib.axis.XTick at 0x7f940b0ba550>,\n",
              "  <matplotlib.axis.XTick at 0x7f940b0a7400>,\n",
              "  <matplotlib.axis.XTick at 0x7f940b0a34e0>,\n",
              "  <matplotlib.axis.XTick at 0x7f940b05c940>,\n",
              "  <matplotlib.axis.XTick at 0x7f940b063080>],\n",
              " <a list of 5 Text xticklabel objects>)"
            ]
          },
          "metadata": {
            "tags": []
          },
          "execution_count": 37
        },
        {
          "output_type": "display_data",
          "data": {
            "image/png": "[encoded data removed]",
            "text/plain": [
              "<matplotlib.figure.Figure at 0x7f940b0a7358>"
            ]
          },
          "metadata": {
            "tags": []
          }
        }
      ]
    }
  ]
}